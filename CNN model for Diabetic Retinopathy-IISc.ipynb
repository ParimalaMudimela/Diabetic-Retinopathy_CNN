{
 "cells": [
  {
   "cell_type": "code",
   "execution_count": 1,
   "metadata": {},
   "outputs": [],
   "source": [
    "# https://www.pyimagesearch.com/2017/NUM_CLASSES/11/image-classification-with-keras-and-deep-learning/\n",
    "# https://machinelearningmastery.com/grid-search-hyperparameters-deep-learning-models-python-keras/\n",
    "# https://machinelearningmastery.com/save-load-keras-deep-learning-models/\n",
    "#https://www.learnopencv.com/image-classification-using-convolutional-neural-networks-in-keras/\n",
    "\n",
    "import numpy as np # linear algebra\n",
    "import pandas as pd # data processing, CSV file I/O (e.g. pd.read_csv)\n",
    "import os\n",
    "import random\n",
    "import sys\n",
    "import cv2\n",
    "import matplotlib\n",
    "from subprocess import check_output"
   ]
  },
  {
   "cell_type": "code",
   "execution_count": 2,
   "metadata": {},
   "outputs": [
    {
     "name": "stderr",
     "output_type": "stream",
     "text": [
      "Using TensorFlow backend.\n"
     ]
    }
   ],
   "source": [
    "from keras.models import Sequential\n",
    "from keras.layers import Dense, Conv2D, MaxPooling2D, Dropout, Flatten\n",
    "from keras.preprocessing.image import ImageDataGenerator, array_to_img, img_to_array, load_img\n",
    "from keras.optimizers import Adam\n",
    "from sklearn.model_selection import train_test_split\n",
    "from keras.utils import to_categorical"
   ]
  },
  {
   "cell_type": "code",
   "execution_count": 3,
   "metadata": {},
   "outputs": [],
   "source": [
    "#list the files in the input directory\n",
    "#print(os.listdir(\"../input\"))\n",
    "#print(check_output([\"ls\", \"../input\"]).decode(\"utf8\")) #trainLabels.csv\n",
    "#print(check_output([\"pwd\", \"\"]).decode(\"utf8\")) # /kaggle/working/\n",
    "#classes : 0 - No DR, 1 - Mild, 2 - Moderate, 3 - Severe, 4 - Proliferative DR\n",
    "def classes_to_int(label):\n",
    "    # label = classes.index(dir)\n",
    "    label = label.strip()\n",
    "    if label == \"No DR\":  return 0\n",
    "    if label == \"Mild\":  return 1\n",
    "    if label == \"Moderate\":  return 2\n",
    "    if label == \"Severe\":  return 3\n",
    "    if label == \"Proliferative DR\":  return 4\n",
    "    print(\"Invalid Label\", label)\n",
    "    return 5"
   ]
  },
  {
   "cell_type": "code",
   "execution_count": 4,
   "metadata": {},
   "outputs": [],
   "source": [
    "def int_to_classes(i):\n",
    "    if i == 0: return \"No DR\"\n",
    "    elif i == 1: return \"Mild\"\n",
    "    elif i == 2: return \"Moderate\"\n",
    "    elif i == 3: return \"Severe\"\n",
    "    elif i == 4: return \"Proliferative DR\"\n",
    "    print(\"Invalid class \", i)\n",
    "    return \"Invalid Class\""
   ]
  },
  {
   "cell_type": "code",
   "execution_count": 5,
   "metadata": {},
   "outputs": [],
   "source": [
    "NUM_CLASSES = 5\n",
    "# we need images of same size so we convert them into the size\n",
    "WIDTH = 128\n",
    "HEIGHT = 128\n",
    "DEPTH = 3\n",
    "inputShape = (HEIGHT, WIDTH, DEPTH)\n",
    "# initialize number of epochs to train for, initial learning rate and batch size\n",
    "EPOCHS = 15\n",
    "INIT_LR = 1e-3\n",
    "BS = 32\n",
    "#global variables\n",
    "ImageNameDataHash = {}\n",
    "uniquePatientIDList = []"
   ]
  },
  {
   "cell_type": "code",
   "execution_count": 6,
   "metadata": {},
   "outputs": [],
   "source": [
    "def readTrainData(trainDir):\n",
    "    global ImageNameDataHash\n",
    "    from PIL import Image as Img\n",
    "    # loop over the input images\n",
    "    images = os.listdir(trainDir)\n",
    "    print(\"Number of files in \" + trainDir + \" is \" + str(len(images)))\n",
    "    for imageFileName in images:\n",
    "        if (imageFileName == \"trainLabels.csv\"):\n",
    "            continue\n",
    "        # load the image, pre-process it, and store it in the data list\n",
    "        imageFullPath = os.path.join(os.path.sep, trainDir, imageFileName)\n",
    "        #print(imageFullPath)\n",
    "        img = load_img(imageFullPath)\n",
    "        arr = img_to_array(img)  # Numpy array with shape (233,233,3)\n",
    "        dim1 = arr.shape[0]\n",
    "        dim2 = arr.shape[1]\n",
    "        dim3 = arr.shape[2]\n",
    "        if (dim1 < HEIGHT or dim2 < WIDTH or dim3 < DEPTH):\n",
    "            print(\"Error image dimensions are less than expected \"+str(arr.shape))\n",
    "        arr = cv2.resize(arr, (HEIGHT,WIDTH)) #Numpy array with shape (HEIGHT, WIDTH,3)\n",
    "        #print(arr.shape) # 128,128,3\n",
    "        dim1 = arr.shape[0]\n",
    "        dim2 = arr.shape[1]\n",
    "        dim3 = arr.shape[2]\n",
    "        if (dim1 != HEIGHT or dim2 != WIDTH or dim3 != DEPTH):\n",
    "            print(\"Error after resize, image dimensions are not equal to expected \"+str(arr.shape))\n",
    "        #print(type(arr))\n",
    "        # scale the raw pixel intensities to the range [0, 1] - TBD TEST\n",
    "        arr = np.array(arr, dtype=\"float\") / 255.0\n",
    "        imageFileName = imageFileName.replace('.jpeg','')\n",
    "        ImageNameDataHash[str(imageFileName)] = np.array(arr) \n",
    "    return"
   ]
  },
  {
   "cell_type": "code",
   "execution_count": 7,
   "metadata": {
    "scrolled": true
   },
   "outputs": [
    {
     "name": "stdout",
     "output_type": "stream",
     "text": [
      "Loading images at...2018-09-25 22:09:09.804477\n",
      "Number of files in D:\\Data\\train1\\ is 301\n",
      "Loaded 300 images at...2018-09-25 22:10:32.167188\n"
     ]
    }
   ],
   "source": [
    "from datetime import datetime\n",
    "\n",
    "print(\"Loading images at...\"+ str(datetime.now()))\n",
    "sys.stdout.flush()\n",
    "readTrainData(\"D:\\\\Data\\\\train1\\\\\")\n",
    "print(\"Loaded \" + str(len(ImageNameDataHash)) + \" images at...\"+ str(datetime.now())) # 1000"
   ]
  },
  {
   "cell_type": "code",
   "execution_count": 8,
   "metadata": {},
   "outputs": [],
   "source": [
    "#csv contains image\tlevel\n",
    "#10_left 0\n",
    "#10_right 0\n",
    "import csv\n",
    "def readTrainCsv():\n",
    "    raw_df = pd.read_csv('D:\\\\Data\\\\train1\\\\trainLabels.csv', sep=',')\n",
    "    print(type(raw_df)) #<class 'pandas.core.frame.DataFrame'>\n",
    "    row_count=raw_df.shape[0] #gives number of row count row_count=35126 \n",
    "    col_count=raw_df.shape[1] #gives number of col count col count=2\n",
    "    print(\"row_count=\"+str(row_count)+\" col count=\"+str(col_count))\n",
    "    raw_df[\"PatientID\"] = ''\n",
    "    header_list = list(raw_df.columns)\n",
    "    print(header_list) # ['image', 'level', 'PatientID']\n",
    "    # double check if level of left and right are same or not\n",
    "    ImageLevelHash = {}\n",
    "    patientIDList = []\n",
    "    for index, row in raw_df.iterrows():\n",
    "        # 0 is image, 1 is level, 2 is PatientID, 3 is data\n",
    "        key = row[0] + ''\n",
    "        patientID = row[0] + ''\n",
    "        patientID = patientID.replace('_right','')\n",
    "        patientID = patientID.replace('_left','')\n",
    "             #print(\"Adding patient ID\"+ patientID)\n",
    "        raw_df.at[index, 'PatientID'] = patientID\n",
    "        patientIDList.append(patientID)\n",
    "        ImageLevelHash[key] = str(row[1]) # level\n",
    "                \n",
    "    global uniquePatientIDList\n",
    "    uniquePatientIDList = sorted(set(patientIDList))\n",
    "    count=0;\n",
    "    for patientID in uniquePatientIDList:\n",
    "        left_level = ImageLevelHash[str(patientID+'_left')]\n",
    "        right_level = ImageLevelHash[str(patientID+'_right')]\n",
    "        #right_exists = str(patientID+'_right') in raw_df.values\n",
    "        if (left_level != right_level):\n",
    "            count = count+1\n",
    "            #print(\"Warning for patient=\"+ str(patientID) + \" left_level=\" + left_level+ \" right_level=\" +right_level)\n",
    "    print(\"count of images with both left and right eye level not matching=\"+str(count)) # 2240\n",
    "    print(\"number of unique patients=\"+str(len(uniquePatientIDList))) # 17563\n",
    "    return raw_df"
   ]
  },
  {
   "cell_type": "code",
   "execution_count": 9,
   "metadata": {},
   "outputs": [
    {
     "name": "stdout",
     "output_type": "stream",
     "text": [
      "Reading trainLabels.csv...\n",
      "<class 'pandas.core.frame.DataFrame'>\n",
      "row_count=35126 col count=2\n",
      "['image', 'level', 'PatientID']\n",
      "count of images with both left and right eye level not matching=2240\n",
      "number of unique patients=17563\n"
     ]
    }
   ],
   "source": [
    "random.seed(10)\n",
    "print(\"Reading trainLabels.csv...\")\n",
    "df = readTrainCsv()"
   ]
  },
  {
   "cell_type": "code",
   "execution_count": 10,
   "metadata": {},
   "outputs": [
    {
     "name": "stdout",
     "output_type": "stream",
     "text": [
      "0 patient's patientID=10\n",
      "1 patient's patientID=10\n",
      "2 patient's patientID=13\n",
      "3 patient's patientID=13\n",
      "4 patient's patientID=15\n",
      "5 patient's patientID=15\n",
      "6 patient's patientID=16\n",
      "7 patient's patientID=16\n",
      "8 patient's patientID=17\n",
      "9 patient's patientID=17\n"
     ]
    }
   ],
   "source": [
    "for i in range(0,10):\n",
    "    s = df.loc[df.index[i], 'PatientID'] # get patient id of patients\n",
    "    print(str(i) + \" patient's patientID=\"+str(s))"
   ]
  },
  {
   "cell_type": "code",
   "execution_count": 11,
   "metadata": {},
   "outputs": [
    {
     "name": "stdout",
     "output_type": "stream",
     "text": [
      "300\n"
     ]
    }
   ],
   "source": [
    "# df has 3 columns ['image', 'level', 'PatientID']\n",
    "keepImages =  list(ImageNameDataHash.keys())\n",
    "df = df[df['image'].isin(keepImages)]\n",
    "print(len(df)) # 1000"
   ]
  },
  {
   "cell_type": "code",
   "execution_count": 12,
   "metadata": {},
   "outputs": [
    {
     "name": "stdout",
     "output_type": "stream",
     "text": [
      "['data', 'image']\n",
      "300\n"
     ]
    }
   ],
   "source": [
    "#convert hash to dataframe\n",
    "imageNameArr = []\n",
    "dataArr = []\n",
    "for index, row in df.iterrows():\n",
    "    key = str(row[0])\n",
    "    if key in ImageNameDataHash:\n",
    "        imageNameArr.append(key)\n",
    "        dataArr.append(np.array(ImageNameDataHash[key])) # np.array\n",
    "\n",
    "df2 = pd.DataFrame({'image': imageNameArr, 'data': dataArr})\n",
    "df2_header_list = list(df2.columns) \n",
    "print(df2_header_list) # ['image', 'data']\n",
    "print(len(df2)) # 1000\n",
    "#print(df2.describe(include='all'))\n",
    "#print(df2.sample(3)) # 3 rows x 2 columns"
   ]
  },
  {
   "cell_type": "code",
   "execution_count": 13,
   "metadata": {},
   "outputs": [
    {
     "name": "stdout",
     "output_type": "stream",
     "text": [
      "data     object\n",
      "image    object\n",
      "dtype: object\n",
      "image        object\n",
      "level         int64\n",
      "PatientID    object\n",
      "dtype: object\n"
     ]
    }
   ],
   "source": [
    "if len(df) != len(df2):\n",
    "    print(\"Error length of df != df2\")\n",
    "    \n",
    "for idx in range(0,len(df)):\n",
    "    if (df.loc[df.index[idx], 'image'] != df2.loc[df2.index[idx], 'image']):\n",
    "        print(\"Error \" + df.loc[df.index[idx], 'image'] +\"==\" + df2.loc[df2.index[idx], 'image'])\n",
    "        \n",
    "print(df2.dtypes)\n",
    "print(df.dtypes)"
   ]
  },
  {
   "cell_type": "code",
   "execution_count": 14,
   "metadata": {},
   "outputs": [
    {
     "name": "stdout",
     "output_type": "stream",
     "text": [
      "['data', 'image', 'level', 'PatientID']\n",
      "300\n",
      "                                                  data     image  level  \\\n",
      "130  [[[0.0, 0.0, 0.0], [0.0, 0.0, 0.0], [0.0, 0.0,...  161_left      0   \n",
      "\n",
      "    PatientID  \n",
      "130       161  \n"
     ]
    }
   ],
   "source": [
    "df = pd.merge(df2, df, left_on='image', right_on='image', how='outer')\n",
    "df_header_list = list(df.columns) \n",
    "print(df_header_list) # 'image', 'data', level', 'PatientID'\n",
    "print(len(df)) # 1000\n",
    "print(df.sample())"
   ]
  },
  {
   "cell_type": "code",
   "execution_count": 15,
   "metadata": {},
   "outputs": [
    {
     "name": "stdout",
     "output_type": "stream",
     "text": [
      "[[[0. 0. 0.]\n",
      "  [0. 0. 0.]\n",
      "  [0. 0. 0.]\n",
      "  ...\n",
      "  [0. 0. 0.]\n",
      "  [0. 0. 0.]\n",
      "  [0. 0. 0.]]\n",
      "\n",
      " [[0. 0. 0.]\n",
      "  [0. 0. 0.]\n",
      "  [0. 0. 0.]\n",
      "  ...\n",
      "  [0. 0. 0.]\n",
      "  [0. 0. 0.]\n",
      "  [0. 0. 0.]]\n",
      "\n",
      " [[0. 0. 0.]\n",
      "  [0. 0. 0.]\n",
      "  [0. 0. 0.]\n",
      "  ...\n",
      "  [0. 0. 0.]\n",
      "  [0. 0. 0.]\n",
      "  [0. 0. 0.]]\n",
      "\n",
      " ...\n",
      "\n",
      " [[0. 0. 0.]\n",
      "  [0. 0. 0.]\n",
      "  [0. 0. 0.]\n",
      "  ...\n",
      "  [0. 0. 0.]\n",
      "  [0. 0. 0.]\n",
      "  [0. 0. 0.]]\n",
      "\n",
      " [[0. 0. 0.]\n",
      "  [0. 0. 0.]\n",
      "  [0. 0. 0.]\n",
      "  ...\n",
      "  [0. 0. 0.]\n",
      "  [0. 0. 0.]\n",
      "  [0. 0. 0.]]\n",
      "\n",
      " [[0. 0. 0.]\n",
      "  [0. 0. 0.]\n",
      "  [0. 0. 0.]\n",
      "  ...\n",
      "  [0. 0. 0.]\n",
      "  [0. 0. 0.]\n",
      "  [0. 0. 0.]]]\n",
      "<class 'numpy.ndarray'>\n",
      "(128, 128, 3)\n"
     ]
    },
    {
     "data": {
      "image/png": "[encoded data removed]",
      "text/plain": [
       "<Figure size 432x288 with 1 Axes>"
      ]
     },
     "metadata": {},
     "output_type": "display_data"
    },
    {
     "name": "stdout",
     "output_type": "stream",
     "text": [
      "Sample Image\n"
     ]
    }
   ],
   "source": [
    "%matplotlib  inline\n",
    "sample0 = df.loc[df.index[0], 'data']\n",
    "print(sample0)\n",
    "print(type(sample0)) # <class 'numpy.ndarray'>\n",
    "print(sample0.shape) # 128,128,3\n",
    "from matplotlib import pyplot as plt\n",
    "plt.imshow(sample0, interpolation='nearest')\n",
    "plt.show()\n",
    "print(\"Sample Image\")"
   ]
  },
  {
   "cell_type": "code",
   "execution_count": 16,
   "metadata": {},
   "outputs": [],
   "source": [
    "X = df['data']\n",
    "Y = df['level']\n",
    "# scale the raw pixel intensities to the range [0, 1]\n",
    "#print(type(X)) # 'pandas.core.series.Series'\n",
    "#X = np.array(X, dtype=\"float\") / 255.0 -- TBD moved to top\n",
    "Y = np.array(Y)\n",
    "# convert the labels from integers to vectors\n",
    "Y =  to_categorical(Y, num_classes=NUM_CLASSES)"
   ]
  },
  {
   "cell_type": "code",
   "execution_count": 17,
   "metadata": {},
   "outputs": [
    {
     "name": "stdout",
     "output_type": "stream",
     "text": [
      "Parttition data into 75:25...\n",
      "Unique patients in dataframe df=150\n",
      "unique_ids shape=150\n",
      "trainid_list shape= 112\n"
     ]
    }
   ],
   "source": [
    "# partition the data into training and testing splits using 75% training and 25% for validation\n",
    "print(\"Parttition data into 75:25...\")\n",
    "sys.stdout.flush()\n",
    "print(\"Unique patients in dataframe df=\" + str(df.PatientID.nunique())) # 500\n",
    "unique_ids = df.PatientID.unique()\n",
    "print('unique_ids shape='+ str(len(unique_ids))) #500\n",
    "\n",
    "# Refer https://www.kaggle.com/kmader/tf-data-tutorial-with-retina-and-keras\n",
    "train_ids, valid_ids = train_test_split(unique_ids, test_size = 0.25, random_state = 10) #stratify = rr_df['level'])\n",
    "trainid_list = train_ids.tolist()\n",
    "print('trainid_list shape=', str(len(trainid_list))) # 375\n",
    "\n",
    "traindf = df[df.PatientID.isin(trainid_list)]\n",
    "valSet = df[~df.PatientID.isin(trainid_list)]"
   ]
  },
  {
   "cell_type": "code",
   "execution_count": 18,
   "metadata": {},
   "outputs": [
    {
     "name": "stdout",
     "output_type": "stream",
     "text": [
      "                                                data     image  level  \\\n",
      "0  [[[0.0, 0.0, 0.0], [0.0, 0.0, 0.0], [0.0, 0.0,...   10_left      0   \n",
      "1  [[[0.0, 0.0, 0.0], [0.0, 0.0, 0.0], [0.0, 0.0,...  10_right      0   \n",
      "6  [[[0.0, 0.0, 0.0], [0.0, 0.0, 0.0], [0.0, 0.0,...   16_left      4   \n",
      "7  [[[0.0, 0.0, 0.0], [0.0, 0.0, 0.0], [0.0, 0.0,...  16_right      4   \n",
      "8  [[[0.0, 0.0, 0.0], [0.0, 0.0, 0.0], [0.0, 0.0,...   17_left      0   \n",
      "\n",
      "  PatientID  \n",
      "0        10  \n",
      "1        10  \n",
      "6        16  \n",
      "7        16  \n",
      "8        17  \n",
      "                                                 data     image  level  \\\n",
      "2   [[[0.0, 0.0, 0.0], [0.0, 0.0, 0.0], [0.0, 0.0,...   13_left      0   \n",
      "3   [[[0.0, 0.0, 0.0], [0.0, 0.0, 0.0], [0.0, 0.0,...  13_right      0   \n",
      "4   [[[0.0, 0.0, 0.0], [0.0, 0.0, 0.0], [0.0, 0.0,...   15_left      1   \n",
      "5   [[[0.0, 0.0, 0.0], [0.0, 0.0, 0.0], [0.0, 0.0,...  15_right      2   \n",
      "20  [[[0.0, 0.0, 0.0], [0.0, 0.0, 0.0], [0.0, 0.0,...   25_left      0   \n",
      "\n",
      "   PatientID  \n",
      "2         13  \n",
      "3         13  \n",
      "4         15  \n",
      "5         15  \n",
      "20        25  \n",
      "                                                data     image  level  \\\n",
      "0  [[[0.0, 0.0, 0.0], [0.0, 0.0, 0.0], [0.0, 0.0,...   10_left      0   \n",
      "1  [[[0.0, 0.0, 0.0], [0.0, 0.0, 0.0], [0.0, 0.0,...  10_right      0   \n",
      "2  [[[0.0, 0.0, 0.0], [0.0, 0.0, 0.0], [0.0, 0.0,...   16_left      4   \n",
      "3  [[[0.0, 0.0, 0.0], [0.0, 0.0, 0.0], [0.0, 0.0,...  16_right      4   \n",
      "4  [[[0.0, 0.0, 0.0], [0.0, 0.0, 0.0], [0.0, 0.0,...   17_left      0   \n",
      "\n",
      "  PatientID  \n",
      "0        10  \n",
      "1        10  \n",
      "2        16  \n",
      "3        16  \n",
      "4        17  \n",
      "                                                data     image  level  \\\n",
      "0  [[[0.0, 0.0, 0.0], [0.0, 0.0, 0.0], [0.0, 0.0,...   13_left      0   \n",
      "1  [[[0.0, 0.0, 0.0], [0.0, 0.0, 0.0], [0.0, 0.0,...  13_right      0   \n",
      "2  [[[0.0, 0.0, 0.0], [0.0, 0.0, 0.0], [0.0, 0.0,...   15_left      1   \n",
      "3  [[[0.0, 0.0, 0.0], [0.0, 0.0, 0.0], [0.0, 0.0,...  15_right      2   \n",
      "4  [[[0.0, 0.0, 0.0], [0.0, 0.0, 0.0], [0.0, 0.0,...   25_left      0   \n",
      "\n",
      "  PatientID  \n",
      "0        13  \n",
      "1        13  \n",
      "2        15  \n",
      "3        15  \n",
      "4        25  \n"
     ]
    }
   ],
   "source": [
    "print(traindf.head())\n",
    "print(valSet.head())\n",
    "\n",
    "traindf = traindf.reset_index(drop=True)\n",
    "valSet = valSet.reset_index(drop=True)\n",
    "\n",
    "print(traindf.head())\n",
    "print(valSet.head())"
   ]
  },
  {
   "cell_type": "code",
   "execution_count": 19,
   "metadata": {},
   "outputs": [
    {
     "name": "stdout",
     "output_type": "stream",
     "text": [
      "trainX shape= 224 valX shape= 76\n"
     ]
    }
   ],
   "source": [
    "trainX = traindf['data']\n",
    "trainY = traindf['level']\n",
    "\n",
    "valX = valSet['data']\n",
    "valY = valSet['level']\n",
    "\n",
    "#(trainX, valX, trainY, valY) = train_test_split(X,Y,test_size=0.25, random_state=10)\n",
    "print('trainX shape=', trainX.shape[0], 'valX shape=', valX.shape[0]) # 750, 250"
   ]
  },
  {
   "cell_type": "code",
   "execution_count": 20,
   "metadata": {},
   "outputs": [],
   "source": [
    "trainY =  to_categorical(trainY, num_classes=NUM_CLASSES)\n",
    "valY =  to_categorical(valY, num_classes=NUM_CLASSES)"
   ]
  },
  {
   "cell_type": "code",
   "execution_count": 21,
   "metadata": {},
   "outputs": [
    {
     "name": "stdout",
     "output_type": "stream",
     "text": [
      "Generating images...\n"
     ]
    }
   ],
   "source": [
    "#construct the image generator for data augmentation\n",
    "print(\"Generating images...\")\n",
    "sys.stdout.flush()\n",
    "aug = ImageDataGenerator(rotation_range=30, width_shift_range=0.1, \\\n",
    "    height_shift_range=0.1, shear_range=0.2, zoom_range=0.2,\\\n",
    "    horizontal_flip=True, fill_mode=\"nearest\")"
   ]
  },
  {
   "cell_type": "code",
   "execution_count": 22,
   "metadata": {},
   "outputs": [],
   "source": [
    "def createModel():\n",
    "    model = Sequential()\n",
    "    # first set of CONV => RELU => MAX POOL layers\n",
    "    model.add(Conv2D(32, (3, 3), padding='same', activation='relu', input_shape=inputShape))\n",
    "    model.add(Conv2D(32, (3, 3), activation='relu'))\n",
    "    model.add(MaxPooling2D(pool_size=(2, 2)))\n",
    "    model.add(Dropout(0.25))\n",
    "    \n",
    "    model.add(Conv2D(64, (3, 3), padding='same', activation='relu'))\n",
    "    model.add(Conv2D(64, (3, 3), activation='relu'))\n",
    "    model.add(MaxPooling2D(pool_size=(2, 2)))\n",
    "    model.add(Dropout(0.25))\n",
    "    \n",
    "    model.add(Conv2D(64, (3, 3), padding='same', activation='relu'))\n",
    "    model.add(Conv2D(64, (3, 3), activation='relu'))\n",
    "    model.add(MaxPooling2D(pool_size=(2, 2)))\n",
    "    model.add(Dropout(0.25))\n",
    "    \n",
    "    model.add(Flatten())\n",
    "    model.add(Dense(512, activation='relu'))\n",
    "    model.add(Dropout(0.5))\n",
    "    model.add(Dense(output_dim=NUM_CLASSES, activation='softmax'))\n",
    "     # returns our fully constructed deep learning + Keras image classifier \n",
    "    opt = Adam(lr=INIT_LR, decay=INIT_LR / EPOCHS)\n",
    "    # use binary_crossentropy if there are two classes\n",
    "    model.compile(loss=\"categorical_crossentropy\", optimizer=opt, metrics=[\"accuracy\"])\n",
    "    return model"
   ]
  },
  {
   "cell_type": "code",
   "execution_count": 23,
   "metadata": {},
   "outputs": [
    {
     "name": "stdout",
     "output_type": "stream",
     "text": [
      "Reshaping trainX at...2018-09-25 22:11:10.814398\n",
      "<class 'pandas.core.series.Series'>\n",
      "(224,)\n",
      "(224, 128, 128, 3)\n",
      "Reshaped trainX at...2018-09-25 22:11:10.868402\n"
     ]
    }
   ],
   "source": [
    "print(\"Reshaping trainX at...\"+ str(datetime.now()))\n",
    "#print(trainX.sample()) \n",
    "print(type(trainX)) # <class 'pandas.core.series.Series'>\n",
    "print(trainX.shape) # (750,)\n",
    "from numpy import zeros\n",
    "Xtrain = np.zeros([trainX.shape[0],HEIGHT, WIDTH, DEPTH])\n",
    "for i in range(trainX.shape[0]): # 0 to traindf Size -1\n",
    "    Xtrain[i] = trainX[i]\n",
    "print(Xtrain.shape) # (750,128,128,3)\n",
    "print(\"Reshaped trainX at...\"+ str(datetime.now()))"
   ]
  },
  {
   "cell_type": "code",
   "execution_count": 24,
   "metadata": {},
   "outputs": [
    {
     "name": "stdout",
     "output_type": "stream",
     "text": [
      "Reshaping valX at...2018-09-25 22:11:10.946406\n",
      "<class 'pandas.core.series.Series'>\n",
      "(76,)\n",
      "(76, 128, 128, 3)\n",
      "Reshaped valX at...2018-09-25 22:11:10.966407\n"
     ]
    }
   ],
   "source": [
    "print(\"Reshaping valX at...\"+ str(datetime.now()))\n",
    "print(type(valX)) # <class 'pandas.core.series.Series'>\n",
    "print(valX.shape) # (250,)\n",
    "from numpy import zeros\n",
    "Xval = np.zeros([valX.shape[0],HEIGHT, WIDTH, DEPTH])\n",
    "for i in range(valX.shape[0]): # 0 to traindf Size -1\n",
    "    Xval[i] = valX[i]\n",
    "print(Xval.shape) # (250,128,128,3)\n",
    "print(\"Reshaped valX at...\"+ str(datetime.now()))"
   ]
  },
  {
   "cell_type": "code",
   "execution_count": 25,
   "metadata": {},
   "outputs": [
    {
     "name": "stdout",
     "output_type": "stream",
     "text": [
      "compiling model...\n"
     ]
    },
    {
     "name": "stderr",
     "output_type": "stream",
     "text": [
      "C:\\Users\\PMudimela\\AppData\\Local\\Continuum\\anaconda2\\envs\\Python3\\lib\\site-packages\\ipykernel_launcher.py:22: UserWarning: Update your `Dense` call to the Keras 2 API: `Dense(activation=\"softmax\", units=5)`\n"
     ]
    },
    {
     "name": "stdout",
     "output_type": "stream",
     "text": [
      "_________________________________________________________________\n",
      "Layer (type)                 Output Shape              Param #   \n",
      "=================================================================\n",
      "conv2d_1 (Conv2D)            (None, 128, 128, 32)      896       \n",
      "_________________________________________________________________\n",
      "conv2d_2 (Conv2D)            (None, 126, 126, 32)      9248      \n",
      "_________________________________________________________________\n",
      "max_pooling2d_1 (MaxPooling2 (None, 63, 63, 32)        0         \n",
      "_________________________________________________________________\n",
      "dropout_1 (Dropout)          (None, 63, 63, 32)        0         \n",
      "_________________________________________________________________\n",
      "conv2d_3 (Conv2D)            (None, 63, 63, 64)        18496     \n",
      "_________________________________________________________________\n",
      "conv2d_4 (Conv2D)            (None, 61, 61, 64)        36928     \n",
      "_________________________________________________________________\n",
      "max_pooling2d_2 (MaxPooling2 (None, 30, 30, 64)        0         \n",
      "_________________________________________________________________\n",
      "dropout_2 (Dropout)          (None, 30, 30, 64)        0         \n",
      "_________________________________________________________________\n",
      "conv2d_5 (Conv2D)            (None, 30, 30, 64)        36928     \n",
      "_________________________________________________________________\n",
      "conv2d_6 (Conv2D)            (None, 28, 28, 64)        36928     \n",
      "_________________________________________________________________\n",
      "max_pooling2d_3 (MaxPooling2 (None, 14, 14, 64)        0         \n",
      "_________________________________________________________________\n",
      "dropout_3 (Dropout)          (None, 14, 14, 64)        0         \n",
      "_________________________________________________________________\n",
      "flatten_1 (Flatten)          (None, 12544)             0         \n",
      "_________________________________________________________________\n",
      "dense_1 (Dense)              (None, 512)               6423040   \n",
      "_________________________________________________________________\n",
      "dropout_4 (Dropout)          (None, 512)               0         \n",
      "_________________________________________________________________\n",
      "dense_2 (Dense)              (None, 5)                 2565      \n",
      "=================================================================\n",
      "Total params: 6,565,029\n",
      "Trainable params: 6,565,029\n",
      "Non-trainable params: 0\n",
      "_________________________________________________________________\n"
     ]
    },
    {
     "data": {
      "image/svg+xml": [
       "<svg height=\"1213pt\" viewBox=\"0.00 0.00 217.00 1213.00\" width=\"217pt\" xmlns=\"http://www.w3.org/2000/svg\" xmlns:xlink=\"http://www.w3.org/1999/xlink\">\n",
       "<g class=\"graph\" id=\"graph0\" transform=\"scale(1 1) rotate(0) translate(4 1209)\">\n",
       "<title>G</title>\n",
       "<polygon fill=\"white\" points=\"-4,4 -4,-1209 213,-1209 213,4 -4,4\" stroke=\"none\"/>\n",
       "<!-- 243899528 -->\n",
       "<g class=\"node\" id=\"node1\"><title>243899528</title>\n",
       "<polygon fill=\"none\" points=\"41,-1095.5 41,-1131.5 168,-1131.5 168,-1095.5 41,-1095.5\" stroke=\"black\"/>\n",
       "<text font-family=\"Times New Roman,serif\" font-size=\"14.00\" text-anchor=\"middle\" x=\"104.5\" y=\"-1109.8\">conv2d_1: Conv2D</text>\n",
       "</g>\n",
       "<!-- 243766104 -->\n",
       "<g class=\"node\" id=\"node2\"><title>243766104</title>\n",
       "<polygon fill=\"none\" points=\"41,-1022.5 41,-1058.5 168,-1058.5 168,-1022.5 41,-1022.5\" stroke=\"black\"/>\n",
       "<text font-family=\"Times New Roman,serif\" font-size=\"14.00\" text-anchor=\"middle\" x=\"104.5\" y=\"-1036.8\">conv2d_2: Conv2D</text>\n",
       "</g>\n",
       "<!-- 243899528&#45;&gt;243766104 -->\n",
       "<g class=\"edge\" id=\"edge2\"><title>243899528-&gt;243766104</title>\n",
       "<path d=\"M104.5,-1095.31C104.5,-1087.29 104.5,-1077.55 104.5,-1068.57\" fill=\"none\" stroke=\"black\"/>\n",
       "<polygon fill=\"black\" points=\"108,-1068.53 104.5,-1058.53 101,-1068.53 108,-1068.53\" stroke=\"black\"/>\n",
       "</g>\n",
       "<!-- 243871528 -->\n",
       "<g class=\"node\" id=\"node3\"><title>243871528</title>\n",
       "<polygon fill=\"none\" points=\"0,-949.5 0,-985.5 209,-985.5 209,-949.5 0,-949.5\" stroke=\"black\"/>\n",
       "<text font-family=\"Times New Roman,serif\" font-size=\"14.00\" text-anchor=\"middle\" x=\"104.5\" y=\"-963.8\">max_pooling2d_1: MaxPooling2D</text>\n",
       "</g>\n",
       "<!-- 243766104&#45;&gt;243871528 -->\n",
       "<g class=\"edge\" id=\"edge3\"><title>243766104-&gt;243871528</title>\n",
       "<path d=\"M104.5,-1022.31C104.5,-1014.29 104.5,-1004.55 104.5,-995.569\" fill=\"none\" stroke=\"black\"/>\n",
       "<polygon fill=\"black\" points=\"108,-995.529 104.5,-985.529 101,-995.529 108,-995.529\" stroke=\"black\"/>\n",
       "</g>\n",
       "<!-- 246692216 -->\n",
       "<g class=\"node\" id=\"node4\"><title>246692216</title>\n",
       "<polygon fill=\"none\" points=\"39.5,-876.5 39.5,-912.5 169.5,-912.5 169.5,-876.5 39.5,-876.5\" stroke=\"black\"/>\n",
       "<text font-family=\"Times New Roman,serif\" font-size=\"14.00\" text-anchor=\"middle\" x=\"104.5\" y=\"-890.8\">dropout_1: Dropout</text>\n",
       "</g>\n",
       "<!-- 243871528&#45;&gt;246692216 -->\n",
       "<g class=\"edge\" id=\"edge4\"><title>243871528-&gt;246692216</title>\n",
       "<path d=\"M104.5,-949.313C104.5,-941.289 104.5,-931.547 104.5,-922.569\" fill=\"none\" stroke=\"black\"/>\n",
       "<polygon fill=\"black\" points=\"108,-922.529 104.5,-912.529 101,-922.529 108,-922.529\" stroke=\"black\"/>\n",
       "</g>\n",
       "<!-- 246692776 -->\n",
       "<g class=\"node\" id=\"node5\"><title>246692776</title>\n",
       "<polygon fill=\"none\" points=\"41,-803.5 41,-839.5 168,-839.5 168,-803.5 41,-803.5\" stroke=\"black\"/>\n",
       "<text font-family=\"Times New Roman,serif\" font-size=\"14.00\" text-anchor=\"middle\" x=\"104.5\" y=\"-817.8\">conv2d_3: Conv2D</text>\n",
       "</g>\n",
       "<!-- 246692216&#45;&gt;246692776 -->\n",
       "<g class=\"edge\" id=\"edge5\"><title>246692216-&gt;246692776</title>\n",
       "<path d=\"M104.5,-876.313C104.5,-868.289 104.5,-858.547 104.5,-849.569\" fill=\"none\" stroke=\"black\"/>\n",
       "<polygon fill=\"black\" points=\"108,-849.529 104.5,-839.529 101,-849.529 108,-849.529\" stroke=\"black\"/>\n",
       "</g>\n",
       "<!-- 243750168 -->\n",
       "<g class=\"node\" id=\"node6\"><title>243750168</title>\n",
       "<polygon fill=\"none\" points=\"41,-730.5 41,-766.5 168,-766.5 168,-730.5 41,-730.5\" stroke=\"black\"/>\n",
       "<text font-family=\"Times New Roman,serif\" font-size=\"14.00\" text-anchor=\"middle\" x=\"104.5\" y=\"-744.8\">conv2d_4: Conv2D</text>\n",
       "</g>\n",
       "<!-- 246692776&#45;&gt;243750168 -->\n",
       "<g class=\"edge\" id=\"edge6\"><title>246692776-&gt;243750168</title>\n",
       "<path d=\"M104.5,-803.313C104.5,-795.289 104.5,-785.547 104.5,-776.569\" fill=\"none\" stroke=\"black\"/>\n",
       "<polygon fill=\"black\" points=\"108,-776.529 104.5,-766.529 101,-776.529 108,-776.529\" stroke=\"black\"/>\n",
       "</g>\n",
       "<!-- 243729912 -->\n",
       "<g class=\"node\" id=\"node7\"><title>243729912</title>\n",
       "<polygon fill=\"none\" points=\"0,-657.5 0,-693.5 209,-693.5 209,-657.5 0,-657.5\" stroke=\"black\"/>\n",
       "<text font-family=\"Times New Roman,serif\" font-size=\"14.00\" text-anchor=\"middle\" x=\"104.5\" y=\"-671.8\">max_pooling2d_2: MaxPooling2D</text>\n",
       "</g>\n",
       "<!-- 243750168&#45;&gt;243729912 -->\n",
       "<g class=\"edge\" id=\"edge7\"><title>243750168-&gt;243729912</title>\n",
       "<path d=\"M104.5,-730.313C104.5,-722.289 104.5,-712.547 104.5,-703.569\" fill=\"none\" stroke=\"black\"/>\n",
       "<polygon fill=\"black\" points=\"108,-703.529 104.5,-693.529 101,-703.529 108,-703.529\" stroke=\"black\"/>\n",
       "</g>\n",
       "<!-- 243728904 -->\n",
       "<g class=\"node\" id=\"node8\"><title>243728904</title>\n",
       "<polygon fill=\"none\" points=\"39.5,-584.5 39.5,-620.5 169.5,-620.5 169.5,-584.5 39.5,-584.5\" stroke=\"black\"/>\n",
       "<text font-family=\"Times New Roman,serif\" font-size=\"14.00\" text-anchor=\"middle\" x=\"104.5\" y=\"-598.8\">dropout_2: Dropout</text>\n",
       "</g>\n",
       "<!-- 243729912&#45;&gt;243728904 -->\n",
       "<g class=\"edge\" id=\"edge8\"><title>243729912-&gt;243728904</title>\n",
       "<path d=\"M104.5,-657.313C104.5,-649.289 104.5,-639.547 104.5,-630.569\" fill=\"none\" stroke=\"black\"/>\n",
       "<polygon fill=\"black\" points=\"108,-630.529 104.5,-620.529 101,-630.529 108,-630.529\" stroke=\"black\"/>\n",
       "</g>\n",
       "<!-- 243729688 -->\n",
       "<g class=\"node\" id=\"node9\"><title>243729688</title>\n",
       "<polygon fill=\"none\" points=\"41,-511.5 41,-547.5 168,-547.5 168,-511.5 41,-511.5\" stroke=\"black\"/>\n",
       "<text font-family=\"Times New Roman,serif\" font-size=\"14.00\" text-anchor=\"middle\" x=\"104.5\" y=\"-525.8\">conv2d_5: Conv2D</text>\n",
       "</g>\n",
       "<!-- 243728904&#45;&gt;243729688 -->\n",
       "<g class=\"edge\" id=\"edge9\"><title>243728904-&gt;243729688</title>\n",
       "<path d=\"M104.5,-584.313C104.5,-576.289 104.5,-566.547 104.5,-557.569\" fill=\"none\" stroke=\"black\"/>\n",
       "<polygon fill=\"black\" points=\"108,-557.529 104.5,-547.529 101,-557.529 108,-557.529\" stroke=\"black\"/>\n",
       "</g>\n",
       "<!-- 243713192 -->\n",
       "<g class=\"node\" id=\"node10\"><title>243713192</title>\n",
       "<polygon fill=\"none\" points=\"41,-438.5 41,-474.5 168,-474.5 168,-438.5 41,-438.5\" stroke=\"black\"/>\n",
       "<text font-family=\"Times New Roman,serif\" font-size=\"14.00\" text-anchor=\"middle\" x=\"104.5\" y=\"-452.8\">conv2d_6: Conv2D</text>\n",
       "</g>\n",
       "<!-- 243729688&#45;&gt;243713192 -->\n",
       "<g class=\"edge\" id=\"edge10\"><title>243729688-&gt;243713192</title>\n",
       "<path d=\"M104.5,-511.313C104.5,-503.289 104.5,-493.547 104.5,-484.569\" fill=\"none\" stroke=\"black\"/>\n",
       "<polygon fill=\"black\" points=\"108,-484.529 104.5,-474.529 101,-484.529 108,-484.529\" stroke=\"black\"/>\n",
       "</g>\n",
       "<!-- 243708200 -->\n",
       "<g class=\"node\" id=\"node11\"><title>243708200</title>\n",
       "<polygon fill=\"none\" points=\"0,-365.5 0,-401.5 209,-401.5 209,-365.5 0,-365.5\" stroke=\"black\"/>\n",
       "<text font-family=\"Times New Roman,serif\" font-size=\"14.00\" text-anchor=\"middle\" x=\"104.5\" y=\"-379.8\">max_pooling2d_3: MaxPooling2D</text>\n",
       "</g>\n",
       "<!-- 243713192&#45;&gt;243708200 -->\n",
       "<g class=\"edge\" id=\"edge11\"><title>243713192-&gt;243708200</title>\n",
       "<path d=\"M104.5,-438.313C104.5,-430.289 104.5,-420.547 104.5,-411.569\" fill=\"none\" stroke=\"black\"/>\n",
       "<polygon fill=\"black\" points=\"108,-411.529 104.5,-401.529 101,-411.529 108,-411.529\" stroke=\"black\"/>\n",
       "</g>\n",
       "<!-- 243697144 -->\n",
       "<g class=\"node\" id=\"node12\"><title>243697144</title>\n",
       "<polygon fill=\"none\" points=\"39.5,-292.5 39.5,-328.5 169.5,-328.5 169.5,-292.5 39.5,-292.5\" stroke=\"black\"/>\n",
       "<text font-family=\"Times New Roman,serif\" font-size=\"14.00\" text-anchor=\"middle\" x=\"104.5\" y=\"-306.8\">dropout_3: Dropout</text>\n",
       "</g>\n",
       "<!-- 243708200&#45;&gt;243697144 -->\n",
       "<g class=\"edge\" id=\"edge12\"><title>243708200-&gt;243697144</title>\n",
       "<path d=\"M104.5,-365.313C104.5,-357.289 104.5,-347.547 104.5,-338.569\" fill=\"none\" stroke=\"black\"/>\n",
       "<polygon fill=\"black\" points=\"108,-338.529 104.5,-328.529 101,-338.529 108,-338.529\" stroke=\"black\"/>\n",
       "</g>\n",
       "<!-- 243695688 -->\n",
       "<g class=\"node\" id=\"node13\"><title>243695688</title>\n",
       "<polygon fill=\"none\" points=\"50,-219.5 50,-255.5 159,-255.5 159,-219.5 50,-219.5\" stroke=\"black\"/>\n",
       "<text font-family=\"Times New Roman,serif\" font-size=\"14.00\" text-anchor=\"middle\" x=\"104.5\" y=\"-233.8\">flatten_1: Flatten</text>\n",
       "</g>\n",
       "<!-- 243697144&#45;&gt;243695688 -->\n",
       "<g class=\"edge\" id=\"edge13\"><title>243697144-&gt;243695688</title>\n",
       "<path d=\"M104.5,-292.313C104.5,-284.289 104.5,-274.547 104.5,-265.569\" fill=\"none\" stroke=\"black\"/>\n",
       "<polygon fill=\"black\" points=\"108,-265.529 104.5,-255.529 101,-265.529 108,-265.529\" stroke=\"black\"/>\n",
       "</g>\n",
       "<!-- 243697928 -->\n",
       "<g class=\"node\" id=\"node14\"><title>243697928</title>\n",
       "<polygon fill=\"none\" points=\"52.5,-146.5 52.5,-182.5 156.5,-182.5 156.5,-146.5 52.5,-146.5\" stroke=\"black\"/>\n",
       "<text font-family=\"Times New Roman,serif\" font-size=\"14.00\" text-anchor=\"middle\" x=\"104.5\" y=\"-160.8\">dense_1: Dense</text>\n",
       "</g>\n",
       "<!-- 243695688&#45;&gt;243697928 -->\n",
       "<g class=\"edge\" id=\"edge14\"><title>243695688-&gt;243697928</title>\n",
       "<path d=\"M104.5,-219.313C104.5,-211.289 104.5,-201.547 104.5,-192.569\" fill=\"none\" stroke=\"black\"/>\n",
       "<polygon fill=\"black\" points=\"108,-192.529 104.5,-182.529 101,-192.529 108,-192.529\" stroke=\"black\"/>\n",
       "</g>\n",
       "<!-- 243684632 -->\n",
       "<g class=\"node\" id=\"node15\"><title>243684632</title>\n",
       "<polygon fill=\"none\" points=\"39.5,-73.5 39.5,-109.5 169.5,-109.5 169.5,-73.5 39.5,-73.5\" stroke=\"black\"/>\n",
       "<text font-family=\"Times New Roman,serif\" font-size=\"14.00\" text-anchor=\"middle\" x=\"104.5\" y=\"-87.8\">dropout_4: Dropout</text>\n",
       "</g>\n",
       "<!-- 243697928&#45;&gt;243684632 -->\n",
       "<g class=\"edge\" id=\"edge15\"><title>243697928-&gt;243684632</title>\n",
       "<path d=\"M104.5,-146.313C104.5,-138.289 104.5,-128.547 104.5,-119.569\" fill=\"none\" stroke=\"black\"/>\n",
       "<polygon fill=\"black\" points=\"108,-119.529 104.5,-109.529 101,-119.529 108,-119.529\" stroke=\"black\"/>\n",
       "</g>\n",
       "<!-- 243683736 -->\n",
       "<g class=\"node\" id=\"node16\"><title>243683736</title>\n",
       "<polygon fill=\"none\" points=\"52.5,-0.5 52.5,-36.5 156.5,-36.5 156.5,-0.5 52.5,-0.5\" stroke=\"black\"/>\n",
       "<text font-family=\"Times New Roman,serif\" font-size=\"14.00\" text-anchor=\"middle\" x=\"104.5\" y=\"-14.8\">dense_2: Dense</text>\n",
       "</g>\n",
       "<!-- 243684632&#45;&gt;243683736 -->\n",
       "<g class=\"edge\" id=\"edge16\"><title>243684632-&gt;243683736</title>\n",
       "<path d=\"M104.5,-73.3129C104.5,-65.2895 104.5,-55.5475 104.5,-46.5691\" fill=\"none\" stroke=\"black\"/>\n",
       "<polygon fill=\"black\" points=\"108,-46.5288 104.5,-36.5288 101,-46.5289 108,-46.5288\" stroke=\"black\"/>\n",
       "</g>\n",
       "<!-- 243768120 -->\n",
       "<g class=\"node\" id=\"node17\"><title>243768120</title>\n",
       "<polygon fill=\"none\" points=\"66,-1168.5 66,-1204.5 143,-1204.5 143,-1168.5 66,-1168.5\" stroke=\"black\"/>\n",
       "<text font-family=\"Times New Roman,serif\" font-size=\"14.00\" text-anchor=\"middle\" x=\"104.5\" y=\"-1182.8\">243768120</text>\n",
       "</g>\n",
       "<!-- 243768120&#45;&gt;243899528 -->\n",
       "<g class=\"edge\" id=\"edge1\"><title>243768120-&gt;243899528</title>\n",
       "<path d=\"M104.5,-1168.31C104.5,-1160.29 104.5,-1150.55 104.5,-1141.57\" fill=\"none\" stroke=\"black\"/>\n",
       "<polygon fill=\"black\" points=\"108,-1141.53 104.5,-1131.53 101,-1141.53 108,-1141.53\" stroke=\"black\"/>\n",
       "</g>\n",
       "</g>\n",
       "</svg>"
      ],
      "text/plain": [
       "<IPython.core.display.SVG object>"
      ]
     },
     "execution_count": 25,
     "metadata": {},
     "output_type": "execute_result"
    }
   ],
   "source": [
    "# initialize the model\n",
    "#import os\n",
    "#os.environ[\"PATH\"] += os.pathsep + 'C:/anaconda3/Lib/site-packages/graphviz-2.38/bin'\n",
    "print(\"compiling model...\")\n",
    "sys.stdout.flush()\n",
    "model = createModel()\n",
    "\n",
    "# print the summary of model\n",
    "from keras.utils import print_summary\n",
    "print_summary(model, line_length=None, positions=None, print_fn=None)\n",
    "\n",
    "# add some visualization\n",
    "from IPython.display import SVG\n",
    "from keras.utils.vis_utils import model_to_dot\n",
    "SVG(model_to_dot(model).create(prog='dot', format='svg'))"
   ]
  },
  {
   "cell_type": "code",
   "execution_count": 26,
   "metadata": {},
   "outputs": [
    {
     "name": "stdout",
     "output_type": "stream",
     "text": [
      "training network...\n",
      "Epoch 1/15\n",
      "7/7 [==============================] - 58s 8s/step - loss: 1.1804 - acc: 0.6518 - val_loss: 0.9570 - val_acc: 0.7763\n",
      "Epoch 2/15\n",
      "7/7 [==============================] - 67s 10s/step - loss: 0.9014 - acc: 0.7545 - val_loss: 0.8231 - val_acc: 0.7763\n",
      "Epoch 3/15\n",
      "7/7 [==============================] - 67s 10s/step - loss: 0.8962 - acc: 0.7545 - val_loss: 0.9294 - val_acc: 0.7763\n",
      "Epoch 4/15\n",
      "7/7 [==============================] - 71s 10s/step - loss: 0.8788 - acc: 0.7545 - val_loss: 0.8084 - val_acc: 0.7763\n",
      "Epoch 5/15\n",
      "7/7 [==============================] - 62s 9s/step - loss: 0.8465 - acc: 0.7545 - val_loss: 0.8749 - val_acc: 0.7763\n",
      "Epoch 6/15\n",
      "7/7 [==============================] - 61s 9s/step - loss: 0.8423 - acc: 0.7545 - val_loss: 0.8161 - val_acc: 0.7763\n",
      "Epoch 7/15\n",
      "7/7 [==============================] - 64s 9s/step - loss: 0.8478 - acc: 0.7545 - val_loss: 0.8074 - val_acc: 0.7763\n",
      "Epoch 8/15\n",
      "7/7 [==============================] - 64s 9s/step - loss: 0.8527 - acc: 0.7545 - val_loss: 0.8137 - val_acc: 0.7763\n",
      "Epoch 9/15\n",
      "7/7 [==============================] - 64s 9s/step - loss: 0.8300 - acc: 0.7545 - val_loss: 0.8204 - val_acc: 0.7763\n",
      "Epoch 10/15\n",
      "7/7 [==============================] - 64s 9s/step - loss: 0.8287 - acc: 0.7545 - val_loss: 0.8110 - val_acc: 0.7763\n",
      "Epoch 11/15\n",
      "7/7 [==============================] - 64s 9s/step - loss: 0.8347 - acc: 0.7545 - val_loss: 0.8133 - val_acc: 0.7763\n",
      "Epoch 12/15\n",
      "7/7 [==============================] - 66s 9s/step - loss: 0.8275 - acc: 0.7545 - val_loss: 0.8075 - val_acc: 0.7763\n",
      "Epoch 13/15\n",
      "7/7 [==============================] - 66s 9s/step - loss: 0.8124 - acc: 0.7545 - val_loss: 0.8327 - val_acc: 0.7763\n",
      "Epoch 14/15\n",
      "7/7 [==============================] - 66s 9s/step - loss: 0.8057 - acc: 0.7545 - val_loss: 0.8236 - val_acc: 0.7763\n",
      "Epoch 15/15\n",
      "7/7 [==============================] - 66s 9s/step - loss: 0.8221 - acc: 0.7545 - val_loss: 0.8511 - val_acc: 0.7763\n",
      "Saving model to disk\n"
     ]
    }
   ],
   "source": [
    "# train the network\n",
    "print(\"training network...\")\n",
    "sys.stdout.flush()\n",
    "#class_mode ='categorical', # 2D one-hot encoded labels\n",
    "H = model.fit_generator(aug.flow(Xtrain, trainY, batch_size=BS), \\\n",
    "    validation_data=(Xval, valY), \\\n",
    "    steps_per_epoch=len(trainX) // BS, \\\n",
    "    epochs=EPOCHS, verbose=1)\n",
    "\n",
    "# save the model to disk\n",
    "print(\"Saving model to disk\")\n",
    "sys.stdout.flush()\n",
    "model.save(\"D:\\\\Data\\\\mymodel\")"
   ]
  },
  {
   "cell_type": "code",
   "execution_count": 27,
   "metadata": {},
   "outputs": [
    {
     "name": "stdout",
     "output_type": "stream",
     "text": [
      "Generating plots...\n"
     ]
    },
    {
     "name": "stderr",
     "output_type": "stream",
     "text": [
      "C:\\Users\\PMudimela\\AppData\\Local\\Continuum\\anaconda2\\envs\\Python3\\lib\\site-packages\\ipykernel_launcher.py:5: UserWarning: \n",
      "This call to matplotlib.use() has no effect because the backend has already\n",
      "been chosen; matplotlib.use() must be called *before* pylab, matplotlib.pyplot,\n",
      "or matplotlib.backends is imported for the first time.\n",
      "\n",
      "The backend was *originally* set to 'module://ipykernel.pylab.backend_inline' by the following code:\n",
      "  File \"C:\\Users\\PMudimela\\AppData\\Local\\Continuum\\anaconda2\\envs\\Python3\\lib\\runpy.py\", line 193, in _run_module_as_main\n",
      "    \"__main__\", mod_spec)\n",
      "  File \"C:\\Users\\PMudimela\\AppData\\Local\\Continuum\\anaconda2\\envs\\Python3\\lib\\runpy.py\", line 85, in _run_code\n",
      "    exec(code, run_globals)\n",
      "  File \"C:\\Users\\PMudimela\\AppData\\Local\\Continuum\\anaconda2\\envs\\Python3\\lib\\site-packages\\ipykernel_launcher.py\", line 16, in <module>\n",
      "    app.launch_new_instance()\n",
      "  File \"C:\\Users\\PMudimela\\AppData\\Local\\Continuum\\anaconda2\\envs\\Python3\\lib\\site-packages\\traitlets\\config\\application.py\", line 658, in launch_instance\n",
      "    app.start()\n",
      "  File \"C:\\Users\\PMudimela\\AppData\\Local\\Continuum\\anaconda2\\envs\\Python3\\lib\\site-packages\\ipykernel\\kernelapp.py\", line 486, in start\n",
      "    self.io_loop.start()\n",
      "  File \"C:\\Users\\PMudimela\\AppData\\Local\\Continuum\\anaconda2\\envs\\Python3\\lib\\site-packages\\tornado\\platform\\asyncio.py\", line 127, in start\n",
      "    self.asyncio_loop.run_forever()\n",
      "  File \"C:\\Users\\PMudimela\\AppData\\Local\\Continuum\\anaconda2\\envs\\Python3\\lib\\asyncio\\base_events.py\", line 422, in run_forever\n",
      "    self._run_once()\n",
      "  File \"C:\\Users\\PMudimela\\AppData\\Local\\Continuum\\anaconda2\\envs\\Python3\\lib\\asyncio\\base_events.py\", line 1432, in _run_once\n",
      "    handle._run()\n",
      "  File \"C:\\Users\\PMudimela\\AppData\\Local\\Continuum\\anaconda2\\envs\\Python3\\lib\\asyncio\\events.py\", line 145, in _run\n",
      "    self._callback(*self._args)\n",
      "  File \"C:\\Users\\PMudimela\\AppData\\Local\\Continuum\\anaconda2\\envs\\Python3\\lib\\site-packages\\tornado\\ioloop.py\", line 759, in _run_callback\n",
      "    ret = callback()\n",
      "  File \"C:\\Users\\PMudimela\\AppData\\Local\\Continuum\\anaconda2\\envs\\Python3\\lib\\site-packages\\tornado\\stack_context.py\", line 276, in null_wrapper\n",
      "    return fn(*args, **kwargs)\n",
      "  File \"C:\\Users\\PMudimela\\AppData\\Local\\Continuum\\anaconda2\\envs\\Python3\\lib\\site-packages\\zmq\\eventloop\\zmqstream.py\", line 536, in <lambda>\n",
      "    self.io_loop.add_callback(lambda : self._handle_events(self.socket, 0))\n",
      "  File \"C:\\Users\\PMudimela\\AppData\\Local\\Continuum\\anaconda2\\envs\\Python3\\lib\\site-packages\\zmq\\eventloop\\zmqstream.py\", line 450, in _handle_events\n",
      "    self._handle_recv()\n",
      "  File \"C:\\Users\\PMudimela\\AppData\\Local\\Continuum\\anaconda2\\envs\\Python3\\lib\\site-packages\\zmq\\eventloop\\zmqstream.py\", line 480, in _handle_recv\n",
      "    self._run_callback(callback, msg)\n",
      "  File \"C:\\Users\\PMudimela\\AppData\\Local\\Continuum\\anaconda2\\envs\\Python3\\lib\\site-packages\\zmq\\eventloop\\zmqstream.py\", line 432, in _run_callback\n",
      "    callback(*args, **kwargs)\n",
      "  File \"C:\\Users\\PMudimela\\AppData\\Local\\Continuum\\anaconda2\\envs\\Python3\\lib\\site-packages\\tornado\\stack_context.py\", line 276, in null_wrapper\n",
      "    return fn(*args, **kwargs)\n",
      "  File \"C:\\Users\\PMudimela\\AppData\\Local\\Continuum\\anaconda2\\envs\\Python3\\lib\\site-packages\\ipykernel\\kernelbase.py\", line 283, in dispatcher\n",
      "    return self.dispatch_shell(stream, msg)\n",
      "  File \"C:\\Users\\PMudimela\\AppData\\Local\\Continuum\\anaconda2\\envs\\Python3\\lib\\site-packages\\ipykernel\\kernelbase.py\", line 233, in dispatch_shell\n",
      "    handler(stream, idents, msg)\n",
      "  File \"C:\\Users\\PMudimela\\AppData\\Local\\Continuum\\anaconda2\\envs\\Python3\\lib\\site-packages\\ipykernel\\kernelbase.py\", line 399, in execute_request\n",
      "    user_expressions, allow_stdin)\n",
      "  File \"C:\\Users\\PMudimela\\AppData\\Local\\Continuum\\anaconda2\\envs\\Python3\\lib\\site-packages\\ipykernel\\ipkernel.py\", line 208, in do_execute\n",
      "    res = shell.run_cell(code, store_history=store_history, silent=silent)\n",
      "  File \"C:\\Users\\PMudimela\\AppData\\Local\\Continuum\\anaconda2\\envs\\Python3\\lib\\site-packages\\ipykernel\\zmqshell.py\", line 537, in run_cell\n",
      "    return super(ZMQInteractiveShell, self).run_cell(*args, **kwargs)\n",
      "  File \"C:\\Users\\PMudimela\\AppData\\Local\\Continuum\\anaconda2\\envs\\Python3\\lib\\site-packages\\IPython\\core\\interactiveshell.py\", line 2666, in run_cell\n",
      "    self.events.trigger('post_run_cell', result)\n",
      "  File \"C:\\Users\\PMudimela\\AppData\\Local\\Continuum\\anaconda2\\envs\\Python3\\lib\\site-packages\\IPython\\core\\events.py\", line 88, in trigger\n",
      "    func(*args, **kwargs)\n",
      "  File \"C:\\Users\\PMudimela\\AppData\\Local\\Continuum\\anaconda2\\envs\\Python3\\lib\\site-packages\\ipykernel\\pylab\\backend_inline.py\", line 160, in configure_once\n",
      "    activate_matplotlib(backend)\n",
      "  File \"C:\\Users\\PMudimela\\AppData\\Local\\Continuum\\anaconda2\\envs\\Python3\\lib\\site-packages\\IPython\\core\\pylabtools.py\", line 311, in activate_matplotlib\n",
      "    matplotlib.pyplot.switch_backend(backend)\n",
      "  File \"C:\\Users\\PMudimela\\AppData\\Local\\Continuum\\anaconda2\\envs\\Python3\\lib\\site-packages\\matplotlib\\pyplot.py\", line 231, in switch_backend\n",
      "    matplotlib.use(newbackend, warn=False, force=True)\n",
      "  File \"C:\\Users\\PMudimela\\AppData\\Local\\Continuum\\anaconda2\\envs\\Python3\\lib\\site-packages\\matplotlib\\__init__.py\", line 1410, in use\n",
      "    reload(sys.modules['matplotlib.backends'])\n",
      "  File \"C:\\Users\\PMudimela\\AppData\\Local\\Continuum\\anaconda2\\envs\\Python3\\lib\\importlib\\__init__.py\", line 166, in reload\n",
      "    _bootstrap._exec(spec, module)\n",
      "  File \"C:\\Users\\PMudimela\\AppData\\Local\\Continuum\\anaconda2\\envs\\Python3\\lib\\site-packages\\matplotlib\\backends\\__init__.py\", line 16, in <module>\n",
      "    line for line in traceback.format_stack()\n",
      "\n",
      "\n",
      "  \"\"\"\n"
     ]
    },
    {
     "data": {
      "image/png": "[encoded data removed]",
      "text/plain": [
       "<Figure size 432x288 with 1 Axes>"
      ]
     },
     "metadata": {},
     "output_type": "display_data"
    }
   ],
   "source": [
    "# set the matplotlib backend so figures can be saved in the background\n",
    "# plot the training loss and accuracy\n",
    "print(\"Generating plots...\")\n",
    "sys.stdout.flush()\n",
    "matplotlib.use(\"Agg\")\n",
    "matplotlib.pyplot.style.use(\"ggplot\")\n",
    "matplotlib.pyplot.figure()\n",
    "N = EPOCHS\n",
    "matplotlib.pyplot.plot(np.arange(0, N), H.history[\"loss\"], label=\"train_loss\")\n",
    "matplotlib.pyplot.plot(np.arange(0, N), H.history[\"val_loss\"], label=\"val_loss\")\n",
    "matplotlib.pyplot.plot(np.arange(0, N), H.history[\"acc\"], label=\"train_acc\")\n",
    "matplotlib.pyplot.plot(np.arange(0, N), H.history[\"val_acc\"], label=\"val_acc\")\n",
    "matplotlib.pyplot.title(\"Training Loss and Accuracy on diabetic retinopathy detection\")\n",
    "matplotlib.pyplot.xlabel(\"Epoch #\")\n",
    "matplotlib.pyplot.ylabel(\"Loss/Accuracy\")\n",
    "matplotlib.pyplot.legend(loc=\"lower left\")\n",
    "matplotlib.pyplot.savefig(\"plot.png\")"
   ]
  },
  {
   "cell_type": "code",
   "execution_count": null,
   "metadata": {},
   "outputs": [],
   "source": []
  }
 ],
 "metadata": {
  "kernelspec": {
   "display_name": "Python 3",
   "language": "python",
   "name": "python3"
  },
  "language_info": {
   "codemirror_mode": {
    "name": "ipython",
    "version": 3
   },
   "file_extension": ".py",
   "mimetype": "text/x-python",
   "name": "python",
   "nbconvert_exporter": "python",
   "pygments_lexer": "ipython3",
   "version": "3.6.5"
  }
 },
 "nbformat": 4,
 "nbformat_minor": 2
}
